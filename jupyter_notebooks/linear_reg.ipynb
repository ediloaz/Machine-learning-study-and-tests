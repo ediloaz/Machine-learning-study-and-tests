{
 "cells": [
  {
   "cell_type": "code",
   "execution_count": 10,
   "metadata": {},
   "outputs": [],
   "source": [
    "import numpy as np\n",
    "import matplotlib.pyplot as plt\n",
    "import pandas as pd\n",
    "import time"
   ]
  },
  {
   "cell_type": "code",
   "execution_count": 17,
   "metadata": {},
   "outputs": [],
   "source": [
    "class LinearRegression:\n",
    "    \n",
    "    def __init__(self, n_features):\n",
    "        self.W = np.random.normal(-1,1,(n_features,1)) #weights\n",
    "        self.b = np.random.rand(1) #intercept\n",
    "        \n",
    "    def descent(self, delta_W, delta_b, learning_rate):\n",
    "        #updating the weights with the calculated gradients\n",
    "        self.W -= learning_rate*delta_W                                                                  \n",
    "        self.b -= learning_rate*delta_b \n",
    "        \n",
    "    def derivatives(self, X, Y):\n",
    "        #partial derivative of cost w.r.t the weights\n",
    "        delta_W = np.sum(np.multiply(((np.matmul(X,self.W)+self.b)-Y), X))*2/X.shape[0] \n",
    "        #partial derivative of cost w.r.t the intercept\n",
    "        delta_b = np.sum(((np.matmul(X,self.W)+self.b)-Y))*2/X.shape[0]                \n",
    "        return delta_W, delta_b\n",
    "    \n",
    "    #fit\n",
    "    def train(self, X, Y, epochs=50, learning_rate=0.1):\n",
    "        X = np.array(X).reshape(-1,1)\n",
    "        Y = np.array(Y).reshape(-1,1)\n",
    "\n",
    "        self.parameter_cache = []       \n",
    "        for i in range(epochs):\n",
    "            \n",
    "            delta_W, delta_b = self.derivatives(X, Y)\n",
    "            self.descent(delta_W, delta_b, learning_rate)\n",
    "            \n",
    "            self.parameter_cache.append(np.array((self.W,self.b)))\n",
    "            \n",
    "        return self.W, self.b, self.parameter_cache\n",
    "\n",
    "    def predict(self, X):\n",
    "        print(X.shape, X.reshape(-1,1).shape)\n",
    "        product = np.matmul(np.array(X).reshape(-1,1),self.W)+self.b\n",
    "        return product\n",
    "    \n",
    "    "
   ]
  },
  {
   "cell_type": "code",
   "execution_count": 5,
   "metadata": {},
   "outputs": [
    {
     "data": {
      "text/html": [
       "<div>\n",
       "<style scoped>\n",
       "    .dataframe tbody tr th:only-of-type {\n",
       "        vertical-align: middle;\n",
       "    }\n",
       "\n",
       "    .dataframe tbody tr th {\n",
       "        vertical-align: top;\n",
       "    }\n",
       "\n",
       "    .dataframe thead th {\n",
       "        text-align: right;\n",
       "    }\n",
       "</style>\n",
       "<table border=\"1\" class=\"dataframe\">\n",
       "  <thead>\n",
       "    <tr style=\"text-align: right;\">\n",
       "      <th></th>\n",
       "      <th>Gender</th>\n",
       "      <th>Height</th>\n",
       "      <th>Weight</th>\n",
       "    </tr>\n",
       "  </thead>\n",
       "  <tbody>\n",
       "    <tr>\n",
       "      <th>0</th>\n",
       "      <td>Male</td>\n",
       "      <td>73.847017</td>\n",
       "      <td>241.893563</td>\n",
       "    </tr>\n",
       "    <tr>\n",
       "      <th>1</th>\n",
       "      <td>Male</td>\n",
       "      <td>68.781904</td>\n",
       "      <td>162.310473</td>\n",
       "    </tr>\n",
       "    <tr>\n",
       "      <th>2</th>\n",
       "      <td>Male</td>\n",
       "      <td>74.110105</td>\n",
       "      <td>212.740856</td>\n",
       "    </tr>\n",
       "    <tr>\n",
       "      <th>3</th>\n",
       "      <td>Male</td>\n",
       "      <td>71.730978</td>\n",
       "      <td>220.042470</td>\n",
       "    </tr>\n",
       "    <tr>\n",
       "      <th>4</th>\n",
       "      <td>Male</td>\n",
       "      <td>69.881796</td>\n",
       "      <td>206.349801</td>\n",
       "    </tr>\n",
       "  </tbody>\n",
       "</table>\n",
       "</div>"
      ],
      "text/plain": [
       "  Gender     Height      Weight\n",
       "0   Male  73.847017  241.893563\n",
       "1   Male  68.781904  162.310473\n",
       "2   Male  74.110105  212.740856\n",
       "3   Male  71.730978  220.042470\n",
       "4   Male  69.881796  206.349801"
      ]
     },
     "execution_count": 5,
     "metadata": {},
     "output_type": "execute_result"
    }
   ],
   "source": [
    "df = pd.read_csv(\"https://raw.githubusercontent.com/Baakchsu/LinearRegression/master/weight-height.csv\")\n",
    "df.head()"
   ]
  },
  {
   "cell_type": "code",
   "execution_count": 6,
   "metadata": {},
   "outputs": [
    {
     "data": {
      "text/plain": [
       "((10000,), (10000,))"
      ]
     },
     "execution_count": 6,
     "metadata": {},
     "output_type": "execute_result"
    }
   ],
   "source": [
    "# feature engineering?\n",
    "x = (df['Weight']-df['Weight'].mean())/df['Weight'].std() #standardization of the dataset\n",
    "y = (df[\"Height\"]-df['Height'].mean())/df[\"Height\"].std()\n",
    "x.shape, y.shape"
   ]
  },
  {
   "cell_type": "code",
   "execution_count": 12,
   "metadata": {},
   "outputs": [
    {
     "data": {
      "text/plain": [
       "((25000, 1), (25000, 1))"
      ]
     },
     "execution_count": 12,
     "metadata": {},
     "output_type": "execute_result"
    }
   ],
   "source": [
    "def foo(w, b, n):\n",
    "    x = np.random.rand(n,1)\n",
    "    y = np.power(2, (w*x)) + b\n",
    "    return x, y\n",
    "\n",
    "x, y = foo(9, 3, 25000)\n",
    "x.shape, y.shape"
   ]
  },
  {
   "cell_type": "code",
   "execution_count": 18,
   "metadata": {},
   "outputs": [],
   "source": [
    "reg = LinearRegression(n_features=1)"
   ]
  },
  {
   "cell_type": "code",
   "execution_count": 19,
   "metadata": {},
   "outputs": [
    {
     "name": "stdout",
     "output_type": "stream",
     "text": [
      "[-0.56903836] 0.008581352651934788\n",
      "(180, 1) (180, 1)\n"
     ]
    },
    {
     "name": "stderr",
     "output_type": "stream",
     "text": [
      "<ipython-input-17-cd2699bcec87>:30: VisibleDeprecationWarning: Creating an ndarray from ragged nested sequences (which is a list-or-tuple of lists-or-tuples-or ndarrays with different lengths or shapes) is deprecated. If you meant to do this, you must specify 'dtype=object' when creating the ndarray.\n",
      "  self.parameter_cache.append(np.array((self.W,self.b)))\n"
     ]
    },
    {
     "data": {
      "text/plain": [
       "[<matplotlib.lines.Line2D at 0x7f29ff115e80>]"
      ]
     },
     "execution_count": 19,
     "metadata": {},
     "output_type": "execute_result"
    },
    {
     "data": {
      "image/png": "[encoded data removed]",
      "text/plain": [
       "<Figure size 432x288 with 1 Axes>"
      ]
     },
     "metadata": {
      "needs_background": "light"
     },
     "output_type": "display_data"
    }
   ],
   "source": [
    "params = reg.train(x, y, epochs=2, learning_rate=0.000001)\n",
    "print(params[0][-1], params[1][-1])\n",
    "plt.scatter(x[:180], y[:180], color='red')\n",
    "pred = reg.predict(np.array(x[:180]))\n",
    "plt.plot(x[:180], pred[:180])"
   ]
  },
  {
   "cell_type": "code",
   "execution_count": 20,
   "metadata": {},
   "outputs": [
    {
     "name": "stdout",
     "output_type": "stream",
     "text": [
      "[246.72467907] -35.126557615295766\n",
      "(180, 1) (180, 1)\n"
     ]
    },
    {
     "name": "stderr",
     "output_type": "stream",
     "text": [
      "<ipython-input-17-cd2699bcec87>:30: VisibleDeprecationWarning: Creating an ndarray from ragged nested sequences (which is a list-or-tuple of lists-or-tuples-or ndarrays with different lengths or shapes) is deprecated. If you meant to do this, you must specify 'dtype=object' when creating the ndarray.\n",
      "  self.parameter_cache.append(np.array((self.W,self.b)))\n"
     ]
    },
    {
     "data": {
      "text/plain": [
       "[<matplotlib.lines.Line2D at 0x7f29ff007880>]"
      ]
     },
     "execution_count": 20,
     "metadata": {},
     "output_type": "execute_result"
    },
    {
     "data": {
      "image/png": "[encoded data removed]",
      "text/plain": [
       "<Figure size 432x288 with 1 Axes>"
      ]
     },
     "metadata": {
      "needs_background": "light"
     },
     "output_type": "display_data"
    }
   ],
   "source": [
    "params = reg.train(x, y, epochs=90, learning_rate=0.1)\n",
    "print(params[0][-1], params[1][-1])\n",
    "plt.scatter(x[:180], y[:180], color='red')\n",
    "pred = reg.predict(np.array(x[:180]))\n",
    "plt.plot(x[:180], pred[:180])"
   ]
  },
  {
   "cell_type": "code",
   "execution_count": null,
   "metadata": {},
   "outputs": [],
   "source": []
  }
 ],
 "metadata": {
  "kernelspec": {
   "display_name": "Python 3",
   "language": "python",
   "name": "python3"
  },
  "language_info": {
   "codemirror_mode": {
    "name": "ipython",
    "version": 3
   },
   "file_extension": ".py",
   "mimetype": "text/x-python",
   "name": "python",
   "nbconvert_exporter": "python",
   "pygments_lexer": "ipython3",
   "version": "3.8.5"
  }
 },
 "nbformat": 4,
 "nbformat_minor": 5
}
